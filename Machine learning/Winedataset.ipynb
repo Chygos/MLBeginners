{
 "cells": [
  {
   "cell_type": "code",
   "execution_count": 322,
   "metadata": {},
   "outputs": [],
   "source": [
    "import numpy as np\n",
    "import matplotlib.pyplot as plt\n",
    "from sklearn import datasets, metrics, tree, model_selection\n",
    "import pandas as pd\n",
    "%matplotlib inline"
   ]
  },
  {
   "cell_type": "code",
   "execution_count": 2,
   "metadata": {},
   "outputs": [
    {
     "data": {
      "text/plain": [
       "dict_keys(['data', 'target', 'target_names', 'DESCR', 'feature_names'])"
      ]
     },
     "execution_count": 2,
     "metadata": {},
     "output_type": "execute_result"
    }
   ],
   "source": [
    "wine = datasets.load_wine()\n",
    "wine.keys()"
   ]
  },
  {
   "cell_type": "code",
   "execution_count": 62,
   "metadata": {},
   "outputs": [
    {
     "data": {
      "text/plain": [
       "((178, 13), (178, 1))"
      ]
     },
     "execution_count": 62,
     "metadata": {},
     "output_type": "execute_result"
    }
   ],
   "source": [
    "wine_data = pd.DataFrame(wine.data, columns= wine.feature_names)\n",
    "wine_target = pd.DataFrame(wine.target, columns = ['WineClass'])\n",
    "wine_data.shape, wine_target.shape"
   ]
  },
  {
   "cell_type": "code",
   "execution_count": 31,
   "metadata": {},
   "outputs": [],
   "source": [
    "wine_df = pd.concat([wine_data,wine_target], axis = 1)"
   ]
  },
  {
   "cell_type": "code",
   "execution_count": 32,
   "metadata": {},
   "outputs": [
    {
     "data": {
      "text/html": [
       "<div>\n",
       "<style scoped>\n",
       "    .dataframe tbody tr th:only-of-type {\n",
       "        vertical-align: middle;\n",
       "    }\n",
       "\n",
       "    .dataframe tbody tr th {\n",
       "        vertical-align: top;\n",
       "    }\n",
       "\n",
       "    .dataframe thead th {\n",
       "        text-align: right;\n",
       "    }\n",
       "</style>\n",
       "<table border=\"1\" class=\"dataframe\">\n",
       "  <thead>\n",
       "    <tr style=\"text-align: right;\">\n",
       "      <th></th>\n",
       "      <th>alcohol</th>\n",
       "      <th>malic_acid</th>\n",
       "      <th>ash</th>\n",
       "      <th>alcalinity_of_ash</th>\n",
       "      <th>magnesium</th>\n",
       "      <th>total_phenols</th>\n",
       "      <th>flavanoids</th>\n",
       "      <th>nonflavanoid_phenols</th>\n",
       "      <th>proanthocyanins</th>\n",
       "      <th>color_intensity</th>\n",
       "      <th>hue</th>\n",
       "      <th>od280/od315_of_diluted_wines</th>\n",
       "      <th>proline</th>\n",
       "      <th>WineClass</th>\n",
       "    </tr>\n",
       "  </thead>\n",
       "  <tbody>\n",
       "    <tr>\n",
       "      <th>0</th>\n",
       "      <td>14.23</td>\n",
       "      <td>1.71</td>\n",
       "      <td>2.43</td>\n",
       "      <td>15.6</td>\n",
       "      <td>127.0</td>\n",
       "      <td>2.80</td>\n",
       "      <td>3.06</td>\n",
       "      <td>0.28</td>\n",
       "      <td>2.29</td>\n",
       "      <td>5.64</td>\n",
       "      <td>1.04</td>\n",
       "      <td>3.92</td>\n",
       "      <td>1065.0</td>\n",
       "      <td>0</td>\n",
       "    </tr>\n",
       "    <tr>\n",
       "      <th>1</th>\n",
       "      <td>13.20</td>\n",
       "      <td>1.78</td>\n",
       "      <td>2.14</td>\n",
       "      <td>11.2</td>\n",
       "      <td>100.0</td>\n",
       "      <td>2.65</td>\n",
       "      <td>2.76</td>\n",
       "      <td>0.26</td>\n",
       "      <td>1.28</td>\n",
       "      <td>4.38</td>\n",
       "      <td>1.05</td>\n",
       "      <td>3.40</td>\n",
       "      <td>1050.0</td>\n",
       "      <td>0</td>\n",
       "    </tr>\n",
       "    <tr>\n",
       "      <th>2</th>\n",
       "      <td>13.16</td>\n",
       "      <td>2.36</td>\n",
       "      <td>2.67</td>\n",
       "      <td>18.6</td>\n",
       "      <td>101.0</td>\n",
       "      <td>2.80</td>\n",
       "      <td>3.24</td>\n",
       "      <td>0.30</td>\n",
       "      <td>2.81</td>\n",
       "      <td>5.68</td>\n",
       "      <td>1.03</td>\n",
       "      <td>3.17</td>\n",
       "      <td>1185.0</td>\n",
       "      <td>0</td>\n",
       "    </tr>\n",
       "    <tr>\n",
       "      <th>3</th>\n",
       "      <td>14.37</td>\n",
       "      <td>1.95</td>\n",
       "      <td>2.50</td>\n",
       "      <td>16.8</td>\n",
       "      <td>113.0</td>\n",
       "      <td>3.85</td>\n",
       "      <td>3.49</td>\n",
       "      <td>0.24</td>\n",
       "      <td>2.18</td>\n",
       "      <td>7.80</td>\n",
       "      <td>0.86</td>\n",
       "      <td>3.45</td>\n",
       "      <td>1480.0</td>\n",
       "      <td>0</td>\n",
       "    </tr>\n",
       "    <tr>\n",
       "      <th>4</th>\n",
       "      <td>13.24</td>\n",
       "      <td>2.59</td>\n",
       "      <td>2.87</td>\n",
       "      <td>21.0</td>\n",
       "      <td>118.0</td>\n",
       "      <td>2.80</td>\n",
       "      <td>2.69</td>\n",
       "      <td>0.39</td>\n",
       "      <td>1.82</td>\n",
       "      <td>4.32</td>\n",
       "      <td>1.04</td>\n",
       "      <td>2.93</td>\n",
       "      <td>735.0</td>\n",
       "      <td>0</td>\n",
       "    </tr>\n",
       "  </tbody>\n",
       "</table>\n",
       "</div>"
      ],
      "text/plain": [
       "   alcohol  malic_acid   ash  alcalinity_of_ash  magnesium  total_phenols  \\\n",
       "0    14.23        1.71  2.43               15.6      127.0           2.80   \n",
       "1    13.20        1.78  2.14               11.2      100.0           2.65   \n",
       "2    13.16        2.36  2.67               18.6      101.0           2.80   \n",
       "3    14.37        1.95  2.50               16.8      113.0           3.85   \n",
       "4    13.24        2.59  2.87               21.0      118.0           2.80   \n",
       "\n",
       "   flavanoids  nonflavanoid_phenols  proanthocyanins  color_intensity   hue  \\\n",
       "0        3.06                  0.28             2.29             5.64  1.04   \n",
       "1        2.76                  0.26             1.28             4.38  1.05   \n",
       "2        3.24                  0.30             2.81             5.68  1.03   \n",
       "3        3.49                  0.24             2.18             7.80  0.86   \n",
       "4        2.69                  0.39             1.82             4.32  1.04   \n",
       "\n",
       "   od280/od315_of_diluted_wines  proline  WineClass  \n",
       "0                          3.92   1065.0          0  \n",
       "1                          3.40   1050.0          0  \n",
       "2                          3.17   1185.0          0  \n",
       "3                          3.45   1480.0          0  \n",
       "4                          2.93    735.0          0  "
      ]
     },
     "execution_count": 32,
     "metadata": {},
     "output_type": "execute_result"
    }
   ],
   "source": [
    "wine_df.head()"
   ]
  },
  {
   "cell_type": "code",
   "execution_count": 20,
   "metadata": {},
   "outputs": [],
   "source": [
    "#wine.target_names class_1 =0 , class_2 = 1, class_3 = 2"
   ]
  },
  {
   "cell_type": "code",
   "execution_count": 35,
   "metadata": {},
   "outputs": [
    {
     "data": {
      "text/plain": [
       "'wine_df.info()\\nwine_df.describe()'"
      ]
     },
     "execution_count": 35,
     "metadata": {},
     "output_type": "execute_result"
    }
   ],
   "source": [
    "'''wine_df.info()\n",
    "wine_df.describe()'''"
   ]
  },
  {
   "cell_type": "markdown",
   "metadata": {},
   "source": [
    "#### creating the feature and target variables"
   ]
  },
  {
   "cell_type": "code",
   "execution_count": 36,
   "metadata": {},
   "outputs": [],
   "source": [
    "X = wine_df.drop('WineClass', axis = 1)"
   ]
  },
  {
   "cell_type": "code",
   "execution_count": 38,
   "metadata": {},
   "outputs": [],
   "source": [
    "y = wine_df['WineClass']"
   ]
  },
  {
   "cell_type": "markdown",
   "metadata": {},
   "source": [
    "## using the DecisionTreeClassifier model"
   ]
  },
  {
   "cell_type": "code",
   "execution_count": 40,
   "metadata": {},
   "outputs": [],
   "source": [
    "from sklearn.model_selection import train_test_split"
   ]
  },
  {
   "cell_type": "code",
   "execution_count": 152,
   "metadata": {},
   "outputs": [],
   "source": [
    "X_train, X_test, y_train, y_test = \\\n",
    "train_test_split(X,y, random_state = 42, stratify = y, test_size = 0.2)"
   ]
  },
  {
   "cell_type": "code",
   "execution_count": 71,
   "metadata": {},
   "outputs": [
    {
     "name": "stdout",
     "output_type": "stream",
     "text": [
      "Test 0 ,1, 2,\n",
      "[38.88888889 44.44444444 16.66666667]\n",
      "Train 0, 1 ,2, \n",
      " [31.69014085 38.73239437 29.57746479]\n",
      "Train 0, 1 ,2, \n",
      " [33.14606742 39.88764045 26.96629213]\n"
     ]
    }
   ],
   "source": [
    "#proportion of y_train, y_test and y before stratifying\n",
    "print(f'yTest 0 ,1, 2: \\n{np.bincount(y_test)/float(len(y_test)) * 100.0}')\n",
    "print(f'yTrain 0, 1 ,2: \\n {np.bincount(y_train)/float(len(y_train)) * 100.0}')\n",
    "print(f'yTrain 0, 1 ,2: \\n {np.bincount(y)/float(len(y)) * 100.0}')"
   ]
  },
  {
   "cell_type": "code",
   "execution_count": 73,
   "metadata": {},
   "outputs": [
    {
     "name": "stdout",
     "output_type": "stream",
     "text": [
      "Test 0 ,1, 2,\n",
      "[33.33333333 38.88888889 27.77777778]\n",
      "Train 0, 1 ,2, \n",
      " [33.09859155 40.14084507 26.76056338]\n",
      "Train 0, 1 ,2, \n",
      " [33.14606742 39.88764045 26.96629213]\n"
     ]
    }
   ],
   "source": [
    "#proportion of y_train, y_test and y after stratifying\n",
    "print(f'Test 0 ,1, 2,\\n{np.bincount(y_test)/float(len(y_test)) * 100.0}')\n",
    "print(f'Train 0, 1 ,2, \\n {np.bincount(y_train)/float(len(y_train)) * 100.0}')\n",
    "print(f'Train 0, 1 ,2, \\n {np.bincount(y)/float(len(y)) * 100.0}')"
   ]
  },
  {
   "cell_type": "code",
   "execution_count": 48,
   "metadata": {},
   "outputs": [],
   "source": [
    "from sklearn.tree import DecisionTreeClassifier"
   ]
  },
  {
   "cell_type": "code",
   "execution_count": 153,
   "metadata": {},
   "outputs": [
    {
     "data": {
      "text/plain": [
       "DecisionTreeClassifier(class_weight=None, criterion='gini', max_depth=None,\n",
       "            max_features=None, max_leaf_nodes=None,\n",
       "            min_impurity_decrease=0.0, min_impurity_split=None,\n",
       "            min_samples_leaf=1, min_samples_split=2,\n",
       "            min_weight_fraction_leaf=0.0, presort=False, random_state=42,\n",
       "            splitter='best')"
      ]
     },
     "execution_count": 153,
     "metadata": {},
     "output_type": "execute_result"
    }
   ],
   "source": [
    "classifier = DecisionTreeClassifier(random_state = 42)\n",
    "classifier.fit(X_train,y_train)"
   ]
  },
  {
   "cell_type": "code",
   "execution_count": 154,
   "metadata": {},
   "outputs": [
    {
     "data": {
      "text/plain": [
       "array([0, 1, 0, 1, 1, 0, 0, 1, 1, 2, 1, 2, 0, 2, 0, 1, 1, 0, 1, 1, 1, 1,\n",
       "       0, 0, 1, 1, 0, 2, 1, 2, 0, 2, 1, 2, 2, 2])"
      ]
     },
     "execution_count": 154,
     "metadata": {},
     "output_type": "execute_result"
    }
   ],
   "source": [
    "wine_predict = classifier.predict(X_test)\n",
    "wine_predict"
   ]
  },
  {
   "cell_type": "code",
   "execution_count": 155,
   "metadata": {},
   "outputs": [
    {
     "data": {
      "text/plain": [
       "34"
      ]
     },
     "execution_count": 155,
     "metadata": {},
     "output_type": "execute_result"
    }
   ],
   "source": [
    "np.where(wine_predict == y_test)[0].size"
   ]
  },
  {
   "cell_type": "code",
   "execution_count": 156,
   "metadata": {},
   "outputs": [
    {
     "data": {
      "text/plain": [
       "2"
      ]
     },
     "execution_count": 156,
     "metadata": {},
     "output_type": "execute_result"
    }
   ],
   "source": [
    "np.where(wine_predict != y_test)[0].size"
   ]
  },
  {
   "cell_type": "code",
   "execution_count": 157,
   "metadata": {},
   "outputs": [
    {
     "data": {
      "text/plain": [
       "0.9444444444444444"
      ]
     },
     "execution_count": 157,
     "metadata": {},
     "output_type": "execute_result"
    }
   ],
   "source": [
    "test_accuracy = classifier.score(X_test, y_test)\n",
    "test_accuracy"
   ]
  },
  {
   "cell_type": "code",
   "execution_count": 158,
   "metadata": {},
   "outputs": [
    {
     "data": {
      "text/plain": [
       "1.0"
      ]
     },
     "execution_count": 158,
     "metadata": {},
     "output_type": "execute_result"
    }
   ],
   "source": [
    "train_accuracy = classifier.score(X_train, y_train)\n",
    "train_accuracy"
   ]
  },
  {
   "cell_type": "markdown",
   "metadata": {},
   "source": [
    "## checking the best test size to split to obtain the best accuracy"
   ]
  },
  {
   "cell_type": "code",
   "execution_count": 357,
   "metadata": {
    "scrolled": true
   },
   "outputs": [],
   "source": [
    "# %load DecisionTreeAccuracy_Function\n",
    "#checks the test size split with the best accuracy\n",
    "\n",
    "def DecisionTree_accuracy(n, testAcc):\n",
    "    testsize = np.round(np.linspace(0.2,0.4, 5),2)\n",
    "    testAcc = np.empty(len(testsize))\n",
    "    for i, n in enumerate(testsize):\n",
    "        X_train, X_test, y_train, y_test = \\\n",
    "        train_test_split(X,y, random_state = 42, stratify = y, test_size = n)\n",
    "        classifier = DecisionTreeClassifier(random_state = 42)\n",
    "        classifier.fit(X_train,y_train)\n",
    "        classifier.predict(X_test)\n",
    "        testAcc[i] = classifier.score(X_test,y_test)\n",
    "        print(f'The accuracy of when testsize is {n} is {np.round((testAcc[i]),3)}',)\n",
    "        \n",
    "    plt.figure(figsize=(8, 5), frameon=True)\n",
    "    plt.title(\"Test_size: Varying splits of Test_sizes\")\n",
    "    plt.plot(testsize,testAcc, 'cx-', markersize= 9, zorder = 2.0, label = 'Accuracy' )\n",
    "    plt.legend()\n",
    "    plt.xlabel('Fraction of test size')\n",
    "    plt.ylabel('Accuracy');"
   ]
  },
  {
   "cell_type": "code",
   "execution_count": 358,
   "metadata": {},
   "outputs": [
    {
     "name": "stdout",
     "output_type": "stream",
     "text": [
      "The accuracy of when testsize is 0.2 is 0.944\n",
      "The accuracy of when testsize is 0.25 is 0.956\n",
      "The accuracy of when testsize is 0.3 is 0.963\n",
      "The accuracy of when testsize is 0.35 is 0.984\n",
      "The accuracy of when testsize is 0.4 is 0.972\n"
     ]
    },
    {
     "data": {
      "image/png": "[encoded data removed]",
      "text/plain": [
       "<Figure size 576x360 with 1 Axes>"
      ]
     },
     "metadata": {
      "needs_background": "light"
     },
     "output_type": "display_data"
    }
   ],
   "source": [
    "#calling the function\n",
    "DecisionTree_accuracy(n,testAcc)"
   ]
  },
  {
   "cell_type": "markdown",
   "metadata": {},
   "source": [
    "## Using the KNeighborsClassifier model"
   ]
  },
  {
   "cell_type": "code",
   "execution_count": 147,
   "metadata": {},
   "outputs": [],
   "source": [
    "from sklearn.neighbors import KNeighborsClassifier"
   ]
  },
  {
   "cell_type": "code",
   "execution_count": 160,
   "metadata": {},
   "outputs": [],
   "source": [
    "knn = KNeighborsClassifier(n_neighbors= 5)"
   ]
  },
  {
   "cell_type": "code",
   "execution_count": 161,
   "metadata": {},
   "outputs": [],
   "source": [
    "knn.fit(X_train,y_train)\n",
    "knn_predict = knn.predict(X_test)"
   ]
  },
  {
   "cell_type": "code",
   "execution_count": 162,
   "metadata": {},
   "outputs": [
    {
     "data": {
      "text/plain": [
       "0.8055555555555556"
      ]
     },
     "execution_count": 162,
     "metadata": {},
     "output_type": "execute_result"
    }
   ],
   "source": [
    "#checking the accuracy\n",
    "testaccuracy = knn.score(X_test,y_test)\n",
    "testaccuracy"
   ]
  },
  {
   "cell_type": "code",
   "execution_count": 163,
   "metadata": {},
   "outputs": [
    {
     "data": {
      "text/plain": [
       "0.7816901408450704"
      ]
     },
     "execution_count": 163,
     "metadata": {},
     "output_type": "execute_result"
    }
   ],
   "source": [
    "trainaccuracy = knn.score(X_train,y_train)\n",
    "trainaccuracy"
   ]
  },
  {
   "cell_type": "markdown",
   "metadata": {},
   "source": [
    "### plotting the best KNN number"
   ]
  },
  {
   "cell_type": "code",
   "execution_count": 295,
   "metadata": {},
   "outputs": [],
   "source": [
    "# %load KNeighbors_Accuracyfunction.py\n",
    "def KNeighbour_Accuracy(n):\n",
    "    neighbors = np.arange(1, 11,)\n",
    "    accuracy_train = np.empty(len(neighbors))\n",
    "    accuracy_test = np.empty(len(neighbors))\n",
    "\n",
    "    for i, n in enumerate(neighbors):\n",
    "        knn = KNeighborsClassifier(n_neighbors=n)\n",
    "        knn.fit(X_train, y_train)\n",
    "        accuracy_test[i] = knn.score(X_test, y_test)  # individual test_accuracy score for every n looped\n",
    "        accuracy_train[i] = knn.score(X_train, y_train)  # individual train_accuracy score for every n looped\n",
    "\n",
    "    # plt.style.use('classic')\n",
    "    plt.figure(figsize=(8, 5), frameon=True)\n",
    "    plt.title(\"KNN: Varying Number of Neigbours\")\n",
    "    plt.plot(neighbors, accuracy_train, 'rs-', label='Train Accuracy')\n",
    "    plt.plot(neighbors, accuracy_test, 'go-', label='Test Accuracy', )\n",
    "    plt.legend()\n",
    "    plt.xlabel('Number of Neighbours')\n",
    "    plt.ylabel('Accuracy');\n"
   ]
  },
  {
   "cell_type": "code",
   "execution_count": 296,
   "metadata": {},
   "outputs": [
    {
     "data": {
      "image/png": "[encoded data removed]",
      "text/plain": [
       "<Figure size 576x360 with 1 Axes>"
      ]
     },
     "metadata": {
      "needs_background": "light"
     },
     "output_type": "display_data"
    }
   ],
   "source": [
    "KNeighbour_Accuracy(n)"
   ]
  },
  {
   "cell_type": "code",
   "execution_count": 333,
   "metadata": {},
   "outputs": [
    {
     "name": "stdout",
     "output_type": "stream",
     "text": [
      "Accuracy when n_neighbors is 1 is 0.778\n",
      "Accuracy when n_neighbors is 2 is 0.75\n",
      "Accuracy when n_neighbors is 3 is 0.75\n",
      "Accuracy when n_neighbors is 4 is 0.722\n",
      "Accuracy when n_neighbors is 5 is 0.806\n",
      "Accuracy when n_neighbors is 6 is 0.75\n",
      "Accuracy when n_neighbors is 7 is 0.722\n",
      "Accuracy when n_neighbors is 8 is 0.75\n",
      "Accuracy when n_neighbors is 9 is 0.806\n",
      "Accuracy when n_neighbors is 10 is 0.833\n"
     ]
    }
   ],
   "source": [
    "neighbors = np.arange(1, 11,)\n",
    "testAcc = np.empty(len(neighbors))\n",
    "#testsize =  np.round(np.linspace(0.2,0.4, 5),2)\n",
    "kneighbors = []\n",
    "accuracy = []\n",
    "numdict = {}\n",
    "for i, k in enumerate(neighbors):\n",
    "    knn = KNeighborsClassifier(n_neighbors=k)\n",
    "    knn.fit(X_train, y_train)\n",
    "    testAcc[i] = knn.score(X_test,y_test)\n",
    "    numdict[k] = np.round(testAcc[i],3)\n",
    "    kneighbors.append(k)\n",
    "    accuracy.append(testAcc[i])\n",
    "  \n",
    "    print(f'Accuracy when n_neighbors is {(k)} is {np.round(np.max((testAcc[i])),3)}')\n"
   ]
  },
  {
   "cell_type": "code",
   "execution_count": 359,
   "metadata": {},
   "outputs": [
    {
     "data": {
      "image/png": "[encoded data removed]",
      "text/plain": [
       "<Figure size 576x360 with 1 Axes>"
      ]
     },
     "metadata": {
      "needs_background": "light"
     },
     "output_type": "display_data"
    }
   ],
   "source": [
    "plt.figure(figsize = [8,5])\n",
    "plt.plot(kneighbors,accuracy, 'go-', alpha = 0.7,label = 'Test Accuracy')\n",
    "plt.legend(loc = 'upper left')\n",
    "plt.title('Accuracy scores in varying n_neighbours')\n",
    "plt.xlabel('Test n_neighbours')\n",
    "plt.ylabel('Accuracy');"
   ]
  },
  {
   "cell_type": "markdown",
   "metadata": {},
   "source": [
    "#### From the two model used we could see that the Knearestnieghbors isn't the best model to predict the classes of wine, as its accuracy is btw 0.75 and 0.833\n",
    "\n",
    "#### The DecisionTree classifier seems to be the best model to predict it, as its accuracy ranges from 0.944 to 0.984"
   ]
  }
 ],
 "metadata": {
  "kernelspec": {
   "display_name": "Python 3",
   "language": "python",
   "name": "python3"
  },
  "language_info": {
   "codemirror_mode": {
    "name": "ipython",
    "version": 3
   },
   "file_extension": ".py",
   "mimetype": "text/x-python",
   "name": "python",
   "nbconvert_exporter": "python",
   "pygments_lexer": "ipython3",
   "version": "3.6.2"
  }
 },
 "nbformat": 4,
 "nbformat_minor": 2
}
